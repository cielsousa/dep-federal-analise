{
 "cells": [
  {
   "cell_type": "code",
   "execution_count": null,
   "metadata": {},
   "outputs": [
    {
     "ename": "",
     "evalue": "",
     "output_type": "error",
     "traceback": [
      "\u001b[1;31mRunning cells with 'dep-federal-analise (Python 3.13.2)' requires the ipykernel package.\n",
      "\u001b[1;31mRun the following command to install 'ipykernel' into the Python environment. \n",
      "\u001b[1;31mCommand: 'conda install -n dep-federal-analise ipykernel --update-deps --force-reinstall'"
     ]
    }
   ],
   "source": [
    "%pip install pandas"
   ]
  },
  {
   "cell_type": "code",
   "execution_count": 21,
   "metadata": {},
   "outputs": [],
   "source": [
    "import pandas as pd\n",
    "import numpy as np"
   ]
  },
  {
   "cell_type": "code",
   "execution_count": null,
   "metadata": {},
   "outputs": [],
   "source": [
    "# ===Base de dados===\n",
    "\n",
    "# Informações sobre cálculos, etc.\n",
    "# https://www.tre-ce.jus.br/comunicacao/noticias/2022/Agosto/entenda-como-funiona-o-calculo-dos-quocientes-partidario-e-eleitoral\n",
    "\n",
    "# Conjuntos de dados\n",
    "# https://sig.tse.jus.br/ords/dwapr/r/seai/sig-eleicao-arquivo/conjuntos-de-dados?p10_cd_modulo=resultado&session=309649826689846&cs=1iWGX_4kCm1I9RFT7LM3g8OGvjyuhSs0dfNeA6vcgSvnZ5DWoq10rybAKreqCloli3ZA2UxYgg9qMOPODXrRUuA\n",
    "\n",
    "votacao_partido_df = pd.read_csv('votacao_partido.csv', delimiter=';', encoding='latin_1')\n",
    "\n",
    "votacao_df = pd.read_csv('votacao_candidato.csv', delimiter=';', encoding='latin_1')"
   ]
  },
  {
   "cell_type": "code",
   "execution_count": 23,
   "metadata": {},
   "outputs": [
    {
     "data": {
      "text/html": [
       "<div>\n",
       "<style scoped>\n",
       "    .dataframe tbody tr th:only-of-type {\n",
       "        vertical-align: middle;\n",
       "    }\n",
       "\n",
       "    .dataframe tbody tr th {\n",
       "        vertical-align: top;\n",
       "    }\n",
       "\n",
       "    .dataframe thead th {\n",
       "        text-align: right;\n",
       "    }\n",
       "</style>\n",
       "<table border=\"1\" class=\"dataframe\">\n",
       "  <thead>\n",
       "    <tr style=\"text-align: right;\">\n",
       "      <th></th>\n",
       "      <th>Ano de eleição</th>\n",
       "      <th>Cargo</th>\n",
       "      <th>UF</th>\n",
       "      <th>Nome candidato</th>\n",
       "      <th>Número candidato</th>\n",
       "      <th>Partido</th>\n",
       "      <th>Gênero</th>\n",
       "      <th>Votos válidos</th>\n",
       "      <th>Votos nominais</th>\n",
       "      <th>Data de carga</th>\n",
       "    </tr>\n",
       "  </thead>\n",
       "  <tbody>\n",
       "    <tr>\n",
       "      <th>0</th>\n",
       "      <td>2022</td>\n",
       "      <td>Deputado Federal</td>\n",
       "      <td>SP</td>\n",
       "      <td>ELAINE CRISTINA DO NASCIMENTO</td>\n",
       "      <td>1082</td>\n",
       "      <td>REPUBLICANOS</td>\n",
       "      <td>Feminino</td>\n",
       "      <td>22429341</td>\n",
       "      <td>3185</td>\n",
       "      <td>2025-03-25 03:36:58</td>\n",
       "    </tr>\n",
       "    <tr>\n",
       "      <th>1</th>\n",
       "      <td>2022</td>\n",
       "      <td>Deputado Federal</td>\n",
       "      <td>SP</td>\n",
       "      <td>WESLEY RENATO DE OLIVEIRA SOUZA</td>\n",
       "      <td>2280</td>\n",
       "      <td>PL</td>\n",
       "      <td>Masculino</td>\n",
       "      <td>22429341</td>\n",
       "      <td>15595</td>\n",
       "      <td>2025-03-25 03:36:58</td>\n",
       "    </tr>\n",
       "    <tr>\n",
       "      <th>2</th>\n",
       "      <td>2022</td>\n",
       "      <td>Deputado Federal</td>\n",
       "      <td>SP</td>\n",
       "      <td>CLAUDINEI ALEXANDRE PIRES</td>\n",
       "      <td>7051</td>\n",
       "      <td>AVANTE</td>\n",
       "      <td>Masculino</td>\n",
       "      <td>22429341</td>\n",
       "      <td>2532</td>\n",
       "      <td>2025-03-25 03:36:58</td>\n",
       "    </tr>\n",
       "    <tr>\n",
       "      <th>3</th>\n",
       "      <td>2022</td>\n",
       "      <td>Deputado Federal</td>\n",
       "      <td>SP</td>\n",
       "      <td>RICARDO DE DEUS ANDRADE</td>\n",
       "      <td>3671</td>\n",
       "      <td>AGIR</td>\n",
       "      <td>Masculino</td>\n",
       "      <td>22429341</td>\n",
       "      <td>66</td>\n",
       "      <td>2025-03-25 03:36:58</td>\n",
       "    </tr>\n",
       "    <tr>\n",
       "      <th>4</th>\n",
       "      <td>2022</td>\n",
       "      <td>Deputado Federal</td>\n",
       "      <td>SP</td>\n",
       "      <td>CÃNDIDO ELPÍDIO DE SOUZA VACCAREZZA</td>\n",
       "      <td>7070</td>\n",
       "      <td>AVANTE</td>\n",
       "      <td>Masculino</td>\n",
       "      <td>22429341</td>\n",
       "      <td>6397</td>\n",
       "      <td>2025-03-25 03:36:58</td>\n",
       "    </tr>\n",
       "  </tbody>\n",
       "</table>\n",
       "</div>"
      ],
      "text/plain": [
       "   Ano de eleição             Cargo  UF                       Nome candidato  \\\n",
       "0            2022  Deputado Federal  SP        ELAINE CRISTINA DO NASCIMENTO   \n",
       "1            2022  Deputado Federal  SP      WESLEY RENATO DE OLIVEIRA SOUZA   \n",
       "2            2022  Deputado Federal  SP            CLAUDINEI ALEXANDRE PIRES   \n",
       "3            2022  Deputado Federal  SP              RICARDO DE DEUS ANDRADE   \n",
       "4            2022  Deputado Federal  SP  CÃNDIDO ELPÍDIO DE SOUZA VACCAREZZA   \n",
       "\n",
       "   Número candidato       Partido     Gênero  Votos válidos  Votos nominais  \\\n",
       "0              1082  REPUBLICANOS   Feminino       22429341            3185   \n",
       "1              2280            PL  Masculino       22429341           15595   \n",
       "2              7051        AVANTE  Masculino       22429341            2532   \n",
       "3              3671          AGIR  Masculino       22429341              66   \n",
       "4              7070        AVANTE  Masculino       22429341            6397   \n",
       "\n",
       "         Data de carga  \n",
       "0  2025-03-25 03:36:58  \n",
       "1  2025-03-25 03:36:58  \n",
       "2  2025-03-25 03:36:58  \n",
       "3  2025-03-25 03:36:58  \n",
       "4  2025-03-25 03:36:58  "
      ]
     },
     "execution_count": 23,
     "metadata": {},
     "output_type": "execute_result"
    }
   ],
   "source": [
    "# Subtraindo a quantidade de votos da deputada do total de votos válidos\n",
    "votacao_df['Votos válidos'] = votacao_df['Votos válidos'].apply(\n",
    "    lambda x: x - votacao_df['Votos nominais'].loc[votacao_df['Nome candidato'] == 'CARLA ZAMBELLI SALGADO DE OLIVEIRA'])\n",
    "\n",
    "# votos Zambelli = 946244\n",
    "# Eliminando a candidata do quadro de candidatos\n",
    "votacao_df = votacao_df.drop(votacao_df.loc[votacao_df['Nome candidato'] == 'CARLA ZAMBELLI SALGADO DE OLIVEIRA'].index)\n",
    "votacao_df.head()"
   ]
  },
  {
   "cell_type": "markdown",
   "metadata": {},
   "source": [
    "Precisamos agora calcular a nova divisão de vagas entre os partidos"
   ]
  },
  {
   "cell_type": "code",
   "execution_count": null,
   "metadata": {},
   "outputs": [],
   "source": [
    "votacao_partido_df['Quantidade de votos válidos'].loc[votacao_partido_df['Sigla partido'] == 'PL']\n",
    "\n",
    "# O partido PL obteve 5343667 votos, subtraindo o número de votos da candidata do total, temos 4397423\n",
    "votos_pl = 5343667 - 946244\n",
    "\n",
    "# Atribuindo a nova quantidade de votos válidos ao partido da candidata\n",
    "votacao_partido_df['Quantidade de votos válidos'].loc[votacao_partido_df['Sigla partido'] == 'PL'] = votos_pl\n",
    "votacao_partido_df"
   ]
  },
  {
   "cell_type": "code",
   "execution_count": 25,
   "metadata": {},
   "outputs": [
    {
     "data": {
      "text/plain": [
       "np.float64(58.0)"
      ]
     },
     "execution_count": 25,
     "metadata": {},
     "output_type": "execute_result"
    }
   ],
   "source": [
    "# São 70 vagas para Deputado Federal, precisamos também recalcular o quociente eleitoral\n",
    "# 22429341 / 70 = 320420\n",
    "quociente_eleitoral = 22429341 / 70\n",
    "\n",
    "# Calculando o novo quociente partidário\n",
    "votacao_partido_df = votacao_partido_df.assign(quociente_partidario=lambda x: x['Quantidade de votos válidos'] // quociente_eleitoral)\n",
    "\n",
    "# 58 vagas foram preenchidas através do quociente partidário, restando 12 vagas para cálculo das sobras\n",
    "votacao_partido_df['quociente_partidario'].sum()"
   ]
  },
  {
   "cell_type": "code",
   "execution_count": null,
   "metadata": {},
   "outputs": [],
   "source": [
    "# Esse loop executa o cálculo da média do partido, altera o valor do quociente partidário \n",
    "# e faz o cálculo da nova média a cada inserção na média partidária preenchendo as 12 vagas\n",
    "# de 'sobras'\n",
    "for i in range(59, 70+1):\n",
    "    \n",
    "    # Média mínima para concorrer as vagas de 'sobras'\n",
    "    # 320420 * 0,8\n",
    "    media_minima = quociente_eleitoral * 0.8\n",
    "\n",
    "    # Cria nova coluna com a média dos partidos\n",
    "    votacao_partido_df = votacao_partido_df.assign(media_sobra=lambda x: x['Quantidade de votos válidos'] / (x['quociente_partidario'] + 1))\n",
    "\n",
    "    sobra = votacao_partido_df['Sigla partido'].loc[votacao_partido_df['media_sobra'].idxmax()]\n",
    "    media_partido = votacao_partido_df['media_sobra'].max()\n",
    "    \n",
    "    # Apenas os partidos que alcançaram 80% do quociente eleitoral concorrem as vagas de 'sobras'\n",
    "    if media_partido > media_minima:\n",
    "        \n",
    "        # Atualizando o quociente partidário para acrescentar o número de vagas de 'sobras'\n",
    "        votacao_partido_df['quociente_partidario'].loc[votacao_partido_df['Sigla partido'] == sobra] = votacao_partido_df['quociente_partidario'].loc[votacao_partido_df['Sigla partido'] == sobra].apply(lambda x: x + 1)\n"
   ]
  },
  {
   "cell_type": "code",
   "execution_count": null,
   "metadata": {},
   "outputs": [],
   "source": [
    "# Divisão final das vagas entre os partidos\n",
    "votacao_partido_df"
   ]
  },
  {
   "cell_type": "markdown",
   "metadata": {},
   "source": [
    "com o quadro de vagas por partido em mãos, vamos agora preencher as cadeiras com os candidatos eleitos"
   ]
  },
  {
   "cell_type": "code",
   "execution_count": null,
   "metadata": {},
   "outputs": [
    {
     "data": {
      "text/html": [
       "<div>\n",
       "<style scoped>\n",
       "    .dataframe tbody tr th:only-of-type {\n",
       "        vertical-align: middle;\n",
       "    }\n",
       "\n",
       "    .dataframe tbody tr th {\n",
       "        vertical-align: top;\n",
       "    }\n",
       "\n",
       "    .dataframe thead th {\n",
       "        text-align: right;\n",
       "    }\n",
       "</style>\n",
       "<table border=\"1\" class=\"dataframe\">\n",
       "  <thead>\n",
       "    <tr style=\"text-align: right;\">\n",
       "      <th></th>\n",
       "      <th>Ano de eleição</th>\n",
       "      <th>Cargo</th>\n",
       "      <th>UF</th>\n",
       "      <th>Nome candidato</th>\n",
       "      <th>Número candidato</th>\n",
       "      <th>Partido</th>\n",
       "      <th>Gênero</th>\n",
       "      <th>Votos válidos</th>\n",
       "      <th>Votos nominais</th>\n",
       "      <th>Data de carga</th>\n",
       "    </tr>\n",
       "  </thead>\n",
       "  <tbody>\n",
       "    <tr>\n",
       "      <th>1415</th>\n",
       "      <td>2022</td>\n",
       "      <td>Deputado Federal</td>\n",
       "      <td>SP</td>\n",
       "      <td>GUILHERME CASTRO BOULOS</td>\n",
       "      <td>5010</td>\n",
       "      <td>PSOL</td>\n",
       "      <td>Masculino</td>\n",
       "      <td>22429341</td>\n",
       "      <td>1001472</td>\n",
       "      <td>2025-03-25 03:36:58</td>\n",
       "    </tr>\n",
       "    <tr>\n",
       "      <th>460</th>\n",
       "      <td>2022</td>\n",
       "      <td>Deputado Federal</td>\n",
       "      <td>SP</td>\n",
       "      <td>ERIKA SANTOS SILVA</td>\n",
       "      <td>5070</td>\n",
       "      <td>PSOL</td>\n",
       "      <td>Feminino</td>\n",
       "      <td>22429341</td>\n",
       "      <td>256903</td>\n",
       "      <td>2025-03-25 03:36:58</td>\n",
       "    </tr>\n",
       "    <tr>\n",
       "      <th>35</th>\n",
       "      <td>2022</td>\n",
       "      <td>Deputado Federal</td>\n",
       "      <td>SP</td>\n",
       "      <td>SÂMIA DE SOUZA BOMFIM</td>\n",
       "      <td>5000</td>\n",
       "      <td>PSOL</td>\n",
       "      <td>Feminino</td>\n",
       "      <td>22429341</td>\n",
       "      <td>226187</td>\n",
       "      <td>2025-03-25 03:36:58</td>\n",
       "    </tr>\n",
       "    <tr>\n",
       "      <th>1337</th>\n",
       "      <td>2022</td>\n",
       "      <td>Deputado Federal</td>\n",
       "      <td>SP</td>\n",
       "      <td>SÔNIA BONE DE SOUSA SILVA SANTOS</td>\n",
       "      <td>5088</td>\n",
       "      <td>PSOL</td>\n",
       "      <td>Feminino</td>\n",
       "      <td>22429341</td>\n",
       "      <td>156966</td>\n",
       "      <td>2025-03-25 03:36:58</td>\n",
       "    </tr>\n",
       "    <tr>\n",
       "      <th>561</th>\n",
       "      <td>2022</td>\n",
       "      <td>Deputado Federal</td>\n",
       "      <td>SP</td>\n",
       "      <td>LUIZA ERUNDINA DE SOUSA</td>\n",
       "      <td>5021</td>\n",
       "      <td>PSOL</td>\n",
       "      <td>Feminino</td>\n",
       "      <td>22429341</td>\n",
       "      <td>113983</td>\n",
       "      <td>2025-03-25 03:36:58</td>\n",
       "    </tr>\n",
       "  </tbody>\n",
       "</table>\n",
       "</div>"
      ],
      "text/plain": [
       "      Ano de eleição             Cargo  UF                    Nome candidato  \\\n",
       "1415            2022  Deputado Federal  SP           GUILHERME CASTRO BOULOS   \n",
       "460             2022  Deputado Federal  SP                ERIKA SANTOS SILVA   \n",
       "35              2022  Deputado Federal  SP             SÂMIA DE SOUZA BOMFIM   \n",
       "1337            2022  Deputado Federal  SP  SÔNIA BONE DE SOUSA SILVA SANTOS   \n",
       "561             2022  Deputado Federal  SP           LUIZA ERUNDINA DE SOUSA   \n",
       "\n",
       "      Número candidato Partido     Gênero  Votos válidos  Votos nominais  \\\n",
       "1415              5010    PSOL  Masculino       22429341         1001472   \n",
       "460               5070    PSOL   Feminino       22429341          256903   \n",
       "35                5000    PSOL   Feminino       22429341          226187   \n",
       "1337              5088    PSOL   Feminino       22429341          156966   \n",
       "561               5021    PSOL   Feminino       22429341          113983   \n",
       "\n",
       "            Data de carga  \n",
       "1415  2025-03-25 03:36:58  \n",
       "460   2025-03-25 03:36:58  \n",
       "35    2025-03-25 03:36:58  \n",
       "1337  2025-03-25 03:36:58  \n",
       "561   2025-03-25 03:36:58  "
      ]
     },
     "execution_count": 32,
     "metadata": {},
     "output_type": "execute_result"
    }
   ],
   "source": [
    "# Aplicando ordem decrescente por votos nominais\n",
    "votacao_df = votacao_df.sort_values(by='Votos nominais', ascending=False)\n",
    "votacao_df.loc[votacao_df['Partido'] == 'PSOL'].head(5)"
   ]
  }
 ],
 "metadata": {
  "kernelspec": {
   "display_name": "etl",
   "language": "python",
   "name": "python3"
  },
  "language_info": {
   "codemirror_mode": {
    "name": "ipython",
    "version": 3
   },
   "file_extension": ".py",
   "mimetype": "text/x-python",
   "name": "python",
   "nbconvert_exporter": "python",
   "pygments_lexer": "ipython3",
   "version": "3.10.16"
  }
 },
 "nbformat": 4,
 "nbformat_minor": 2
}
